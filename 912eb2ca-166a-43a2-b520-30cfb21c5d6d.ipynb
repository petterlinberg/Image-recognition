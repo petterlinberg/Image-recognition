{
 "cells": [
  {
   "cell_type": "markdown",
   "id": "2605702b",
   "metadata": {},
   "source": [
    "# Project 1\n",
    "\n",
    "Throughout this project we will look at linear systems the is ill posed. This means we have either zero or infinitely many solutions. We will look at some ways to approch such problems."
   ]
  },
  {
   "cell_type": "markdown",
   "id": "7d3556f3",
   "metadata": {},
   "source": [
    "## Task 1\n",
    "\n",
    "1. a)\\\n",
    "(1) An example of a linear system $A\\textbf{x}=\\textbf{y}$ with no solution can be $A=\\begin{bmatrix}\n",
    "1 & 0 & 1\\\\\n",
    "2 & 0 & 2\n",
    "\\end{bmatrix}$ and $\\textbf{y}=\\begin{pmatrix}\n",
    "2\\\\\n",
    "2\n",
    "\\end{pmatrix}$. The two equations we obtain will represent two parallell planes which never will intersect.\n",
    "\n",
    "    (2) An example of a linear system with infinatly many solutions can be $A=\\begin{bmatrix}\n",
    "1 & 0 & 1\\\\\n",
    "-1 & 0 & 1\n",
    "\\end{bmatrix}$ and $\\textbf{y}=\\begin{pmatrix}\n",
    "2\\\\\n",
    "2\n",
    "\\end{pmatrix}$. Here the planes obtained will intersect for $x_1=0$ and $x_3=2$, but we get a infinite set of solutions for $x_2$.\\\n",
    "\\\n",
    "b)\\\n",
    "    To show that $A^TA$ and $AA^T$ is symmetric we look at what happens if we transpose them. $(AA^T)^T=(A^T)^TA^T=AA^T$ and $(A^TA)^T=A^T(A^T)^T=A^TA$ which shows that they are symmetric. To show that they are positive semi definite we need to show that $\\textbf{x}^TA^TA\\textbf{x}\\geq 0$ and $\\textbf{x}^TAA^T\\textbf{x}\\geq 0$. We use the definition of the norm for real numbers and obtain $\\textbf{x}^TA^TA\\textbf{x}=(A\\textbf{x})^TA\\textbf{x}=||A\\textbf{x}||^2\\geq 0$ ad $\\textbf{x}^TAA^T\\textbf{x}=(A^T\\textbf{x})^TA^T\\textbf{x}=||A^T\\textbf{x}||^2\\geq 0$.\\\n",
    "    \\\n",
    "    From the propery $rank(A)=rank(A^TA)=rank(AA^T)$ for real matrices we can we can conclude that $A^TA \\in \\mathbb{R}^{nxn}$ is not invertible since $rank(A^TA)<n$. However $AA^T \\in \\mathbb{R}^{mxm}$ will have $rank(AA^T)=m$ and will be invertible.\\\n",
    "\\\n",
    "c)\\\n",
    "    Given the lagrange equation $$\\mathcal{L}(\\textbf{x},\\mathbf{\\lambda})=\\textbf{x}^T\\textbf{x}+\\mathbf{\\lambda}^T(A\\textbf{x}-\\textbf{y})$$.\\\n",
    "    We want to minimize this equation for $\\textbf{x}$ and $\\lambda$. We then calculate$\\nabla_x\\mathcal{L}(\\textbf{x},\\mathbf{\\lambda})$ and $\\nabla_\\lambda \\mathcal{L}(\\textbf{x},\\mathbf{\\lambda})$.\\\n",
    "    (1) $\\nabla_x\\mathcal{L}(\\textbf{x},\\mathbf{\\lambda})=2\\textbf{x} + A^T\\mathbf{\\lambda}$ and (2) $\\nabla_\\lambda \\mathcal{L}(\\textbf{x},\\mathbf{\\lambda})=A\\textbf{x}-\\textbf{y}$. By setting both equal to $0$ we obtain $\\textbf{x}=-\\frac{A^T\\mathbf{\\lambda}}{2}$. Putting this into equation (2) we obtain $\\mathbf{\\lambda}=-2(AA^T)^{-1}\\textbf{y}$. Inserting this back into (1) and solve for $\\textbf{x}$ we get $$\\textbf{x}_{min}=A^T(AA^T)^{-1}\\textbf{y}$$"
   ]
  },
  {
   "cell_type": "markdown",
   "id": "cae6f721",
   "metadata": {},
   "source": [
    "1. d)\\\n",
    "    From c) we have $\\textbf{x}_{min}=A^T(AA^T)^{-1}\\textbf{y}$. If we substitute $A^T$ with $QR$ we obtain $\\textbf{x}_{min}=QR(R^TQ^TQR)^{-1}\\textbf{y}$. Since Q is orthogonal $Q^TQ=I$ and we have $$\\textbf{x}_{min}=QR(R^TR)^{-1}\\textbf{y}=QRR^{-1}(R^T)^{-1}\\textbf{y}=QR^{-T}\\textbf{y}$$\\\n",
    "    \\\n",
    "    Now we can implement a function that calculates $Q$ and $R$ and solve for $\\textbf{x}_{min}$. We start by generating a random $mxn$ matrix $A$ and multiple random solutions $x$ which we will use this throughout the project. We obtain $\\textbf{y}$ from $A\\textbf{x}$ and can now compare our solution for $A\\textbf{x}=\\textbf{y}$ with the actual solution $\\textbf{x}_{true}$ which is the ones randomly generated.\n",
    "    "
   ]
  },
  {
   "cell_type": "code",
   "execution_count": 276,
   "id": "a194fae3",
   "metadata": {},
   "outputs": [],
   "source": [
    "import numpy as np\n",
    "from scipy.linalg import norm\n",
    "import scipy as sp\n",
    "from scipy import linalg\n",
    "import matplotlib.pyplot as plt"
   ]
  },
  {
   "cell_type": "code",
   "execution_count": 277,
   "id": "4f8607cf",
   "metadata": {},
   "outputs": [
    {
     "name": "stdout",
     "output_type": "stream",
     "text": [
      "(8096, 100)\n",
      "(2048, 100)\n"
     ]
    }
   ],
   "source": [
    "def generate_A(m,n):\n",
    "    \"\"\"\n",
    "    Generates m times n with correlated columns.\n",
    "    Input:\n",
    "        m: int, first dimension of A\n",
    "        n: int, second dimension of A\n",
    "    output:\n",
    "        A: (m,n) array\n",
    "    \"\"\"\n",
    "\n",
    "    cov_eigvecs = np.random.uniform(-1.0,1.0,(n,n))\n",
    "    cov = cov_eigvecs.T @ cov_eigvecs\n",
    "    v = np.sqrt(np.diag(cov))\n",
    "    outer_v = np.outer(v, v)\n",
    "    corr = cov / outer_v\n",
    "    corr[cov == 0] = 0\n",
    "    chol = sp.linalg.cholesky(corr, lower=True) \n",
    "    A = np.random.normal(0, 1.0,(m,n))\n",
    "    A = np.dot(A,chol.T)\n",
    "    return A\n",
    "\n",
    "m = 2048\n",
    "n = 8096\n",
    "A = generate_A(m,n)\n",
    "\n",
    "N = 100 # Number of test data we want to generate\n",
    "\n",
    "# Generate solutions X columnwise, X[:,i] to access i-th vector\n",
    "X = np.random.normal(0.0,1.0,(A.shape[1],N))  #This will be our x_true that will be compared to our solution\n",
    "\n",
    "# Generate left hand sides Y columnwise Y[:,i] to access lhs\n",
    "Y = np.dot(A,X)\n",
    "\n",
    "# Doublecheck shapes\n",
    "print(X.shape) # Expect (n,N)\n",
    "print(Y.shape) # Expect (m,N)\n"
   ]
  },
  {
   "cell_type": "code",
   "execution_count": 278,
   "id": "9e64b702",
   "metadata": {},
   "outputs": [],
   "source": [
    "def modified_Gram_Schmidt(A):\n",
    "    m,n=A.shape   #getting the dimensions of A\n",
    "    Q , R = np.zeros((m,n)), np.zeros((m,m))  #creating empty matrices\n",
    "    \n",
    "    u=A.copy()\n",
    "    \n",
    "    for i in range(m):   \n",
    "        R[i,i]=norm(u[i])\n",
    "        Q[i]=u[i]/R[i,i]   #By getting the row vectors in A you won't need to transpose A and can avoid slicing for better runtime\n",
    "        for k in range(i+1,m):\n",
    "            R[i,k]=Q[i]@u[k]\n",
    "            u[k]=u[k]-R[i,k]*Q[i]\n",
    "            \n",
    "\n",
    "        \n",
    "        \n",
    "    \n",
    "    return Q.T,R  #Transposing Q to get QR=A^T"
   ]
  },
  {
   "cell_type": "markdown",
   "id": "ad973028",
   "metadata": {},
   "source": [
    "1.\\\n",
    "e)\\\n",
    "    Now that we have shown that $\\textbf{x}_{min}=QR^{-T}\\textbf{y}$ we want to solve this equation to find $\\textbf{x}_{min}$, without having to invert $R^T$. By setting $R^{-T}\\textbf{y}=\\textbf{z}$ we can first solve the system $R^T\\textbf{z}=\\textbf{y}$ and then calculate $\\textbf{x}_{min}=Q\\textbf{z}$."
   ]
  },
  {
   "cell_type": "code",
   "execution_count": 279,
   "id": "b34c271d",
   "metadata": {},
   "outputs": [],
   "source": [
    "def solve_x_min(Q,R,y):\n",
    "    \n",
    "    z=sp.linalg.solve_triangular(R.T,y, lower=True) #R^T will be lower triangular and solvable for z\n",
    "    \n",
    "    x_min=Q@z \n",
    "    \n",
    "    \n",
    "    return x_min\n"
   ]
  },
  {
   "cell_type": "code",
   "execution_count": 280,
   "id": "67e2cf1b",
   "metadata": {},
   "outputs": [],
   "source": [
    "AAT = A @ A.T  #generating AA^T and QR since they will not be declared outside time scope\n",
    "Q,R=modified_Gram_Schmidt(A)"
   ]
  },
  {
   "cell_type": "markdown",
   "id": "0c030a26",
   "metadata": {},
   "source": [
    "We can now use the implemented functions to find $\\textbf{x}_{min}$ for $N$ different $y$ and compare runtime and accuracy with the library function np.linalg.solve()."
   ]
  },
  {
   "cell_type": "code",
   "execution_count": 281,
   "id": "9322c5a9",
   "metadata": {},
   "outputs": [
    {
     "name": "stdout",
     "output_type": "stream",
     "text": [
      "284 ms ± 0 ns per loop (mean ± std. dev. of 1 run, 1 loop each)\n"
     ]
    }
   ],
   "source": [
    "%%timeit -r 1 -n 1\n",
    "AAT = A @ A.T\n"
   ]
  },
  {
   "cell_type": "code",
   "execution_count": 282,
   "id": "f83ade14",
   "metadata": {},
   "outputs": [
    {
     "name": "stdout",
     "output_type": "stream",
     "text": [
      "77.14688183477827\n",
      "8.58 s ± 0 ns per loop (mean ± std. dev. of 1 run, 1 loop each)\n"
     ]
    }
   ],
   "source": [
    "%%timeit -r 1 -n 1\n",
    "x_min_ls=np.zeros((A.shape[1],N)) \n",
    "\n",
    "\n",
    "for i in range(N):\n",
    "    z = np.linalg.solve(AAT,Y[:,i])\n",
    "    x_min_ls[:,i] = A.T @ z\n",
    "\n",
    "print(norm(x_min_ls[:,1]-X[:,1]))"
   ]
  },
  {
   "cell_type": "code",
   "execution_count": 283,
   "id": "be436880",
   "metadata": {},
   "outputs": [
    {
     "name": "stdout",
     "output_type": "stream",
     "text": [
      "30.6 s ± 0 ns per loop (mean ± std. dev. of 1 run, 1 loop each)\n"
     ]
    }
   ],
   "source": [
    "%%timeit -r 1 -n 1\n",
    "\n",
    "Q,R=modified_Gram_Schmidt(A)\n"
   ]
  },
  {
   "cell_type": "code",
   "execution_count": 284,
   "id": "0544aa24",
   "metadata": {},
   "outputs": [
    {
     "name": "stdout",
     "output_type": "stream",
     "text": [
      "77.14688183477827\n",
      "877 ms ± 0 ns per loop (mean ± std. dev. of 1 run, 1 loop each)\n"
     ]
    }
   ],
   "source": [
    "%%timeit -r 1 -n 1\n",
    "\n",
    "x_min=np.zeros((A.shape[1],N))\n",
    "for i in range(N):\n",
    "    x_min[:,i]=solve_x_min(Q,R,Y[:,i])\n",
    "print(norm(x_min[:,1]-X[:,1]))"
   ]
  },
  {
   "cell_type": "code",
   "execution_count": 285,
   "id": "aba47955",
   "metadata": {},
   "outputs": [
    {
     "name": "stdout",
     "output_type": "stream",
     "text": [
      "89.37244853756665\n"
     ]
    }
   ],
   "source": [
    "print(norm(X[:,1])) #the norm if we take a guess at x_true"
   ]
  },
  {
   "cell_type": "markdown",
   "id": "b3961b47",
   "metadata": {},
   "source": [
    "1.\\\n",
    "f)\\\n",
    "As we can see and would expect the library function is faster than our implemented function if you include the decomposition though it is not by that much. The computation with QR decomposition however is much faster than the library function which tells us that if we were to solve for a bigger set of vectors we could save a lot of time by doing QR decomposition before we solve for $\\textbf{x}$.\\\n",
    "\\\n",
    "The norm we obtained from $||\\textbf{x}_{min}-\\textbf{x}_{true}||$ where $\\textbf{x}_{min}$ is an arbitrary solution is the same for both which implies that our function works well. Considering the size of $\\textbf{x}\\in\\mathbb{R}^n$ where $n=8096$ and the values of $\\textbf{x}$ is normally distributed around $0$ with standard deviation $=1$, the norm tells us that our solution is not very close to $\\textbf{x}_{true}$. Although we do need to keep in mind that there are infinitely many solutions. This means  it is not certain that it is $\\textbf{x}_{true}$ that will minimize the Lagrange equation. When our conditions is set to be the gradients of Lagrange equal to zero we will get the unique solution that minimizes the norm and therfore we expect it to differ from $\\textbf{x}_{true}$.\\\n",
    "\\\n",
    "If we would take a guess at what $\\textbf{x}_{true}$ is, the most logical guess would be just the zero vector since $\\textbf{x}_{true}$ is normally distributed around zero. If we calculate $||\\textbf{x}_{min}-\\textbf{x}_{true}||$ with $\\textbf{x}_{min}=\\mathbf{0}$ we get a norm larger than what we got from our computed $\\textbf{x}_{min}$. This implies that we get a somewhat better result from our calculation than the most \"probable\" solution.\n",
    "\n",
    "\n",
    " "
   ]
  },
  {
   "cell_type": "markdown",
   "id": "3db4d384",
   "metadata": {},
   "source": [
    "## Task 2\n",
    "2.\\\n",
    "    a)\\\n",
    "    Given the equation $$T(\\textbf{x})=||A\\textbf{x}-\\textbf{y}||^2+\\mu||\\textbf{x}||^2$$ we want to find $\\nabla_xT(X)=0$.\n",
    "    This was done in assignment two where we obtained $$\\nabla_xT(X)=\\nabla_x(||A\\textbf{x}-\\textbf{y}||^2+\\mu||\\textbf{x}||^2)=2A^T(A\\textbf{x}-\\textbf{y})+2\\mu\\textbf{x}$$\n",
    "    If we set this equal to zero we get the minimized solution $\\textbf{x}_r$ and by rearranging we get $$(A^TA+\\mu I)\\textbf{x}_r=A^T\\textbf{y}$$\\\n",
    "    We have already shown that $A^TA$ is symmetric and positive semi definite. Since $\\mu$ is strictly greater than zero we also get that $\\textbf{x}^T(A^TA+\\mu I)\\textbf{x}=\\textbf{x}^T(A^TA)\\textbf{x}+\\textbf{x}^T\\mu I\\textbf{x}$ where $\\textbf{x}^T(A^TA)\\textbf{x}\\geq 0$ and $\\textbf{x}^T\\mu I\\textbf{x}>0$. Therefore $A^TA+\\mu I$ is an SPD."
   ]
  },
  {
   "cell_type": "markdown",
   "id": "f15814c1",
   "metadata": {},
   "source": [
    "b)\\\n",
    "Given the decomposition $$A=U\\Sigma V^T$$ we want to show that $$\\textbf{x}_r=VDU^T\\textbf{y}$$ where $D$ is a diagonal matrix depending on the singular values $\\Sigma$ and the parameter $\\mu$. We use the equation found in a and substitute for $A$.\\\n",
    "\\\n",
    "$$(V\\Sigma^TU^TU\\Sigma V^T+\\mu I)\\textbf{x}_r=V\\Sigma U^T\\textbf{y}$$\n",
    "$U$ and $V$ are unitary matrices $\\implies U^TU=I$\n",
    "$$(V\\Sigma^T\\Sigma V^T+ \\mu I)\\textbf{x}_r=V\\Sigma^TU^T\\textbf{y}$$\n",
    "$$(V\\Sigma^T\\Sigma V^T+ V\\mu IV^T)\\textbf{x}_r=V\\Sigma^TU^T\\textbf{y}$$\n",
    "$$D_1=\\Sigma^T\\Sigma+\\mu I$$\n",
    "$$VD_1V^T\\textbf{x}_r=V\\Sigma^TU^T\\textbf{y}$$\n",
    "$$D=D_1^{-1}\\Sigma^T$$\n",
    "$$\\textbf{x}_r=VDU^T\\textbf{y}$$\n",
    "The inverse of $D_1$ is easy to find since $D_1$ is a diagonal matrix.\n"
   ]
  },
  {
   "cell_type": "code",
   "execution_count": 286,
   "id": "28633fad",
   "metadata": {},
   "outputs": [],
   "source": [
    "#2 c)\n",
    "def Tikhonov_solveSVD(U,S,Vt,mu,y):\n",
    "    D=S/(S**2+mu)    #the inverse of D1 is just 1/D1\n",
    "    xr=Vt.T*D@U.T@y\n",
    "    return xr"
   ]
  },
  {
   "cell_type": "code",
   "execution_count": 299,
   "id": "6d48bfdd",
   "metadata": {},
   "outputs": [
    {
     "name": "stdout",
     "output_type": "stream",
     "text": [
      "(2048, 2048)\n",
      "(2048,)\n",
      "(2048, 8096)\n"
     ]
    }
   ],
   "source": [
    "\n",
    "U,S,Vt = np.linalg.svd(A,full_matrices = False)\n",
    "print(U.shape) # Expect (m,m)\n",
    "print(S.shape) # Expect (m)\n",
    "print(Vt.shape) # Expect (m,n) A lot less redundant vectors!\n",
    "\n",
    "mu=np.logspace(5,-6,num = 100)  #Creating 100 different values of mu from 10^5 down to 10^-6\n",
    "mu_ls=np.logspace(5,-6,num = 10) #creating 10 different values of mu from 10^5 down to 10^-6 for linalg solve\n",
    "X2d = np.random.normal(0.0,1.0,(A.shape[1])) #generating a new x just to clarify that we use the same x for different values of mu\n",
    "Y2d = A@X2d\n",
    "\n",
    "norm_list=np.zeros(100) #list for the norms from linalg.solve()\n",
    "x_ls=np.zeros(10)       #list for the norms from Tikhonov\n"
   ]
  },
  {
   "cell_type": "code",
   "execution_count": 300,
   "id": "a30b8ef0",
   "metadata": {},
   "outputs": [
    {
     "name": "stdout",
     "output_type": "stream",
     "text": [
      "1min 11s ± 0 ns per loop (mean ± std. dev. of 1 run, 1 loop each)\n"
     ]
    }
   ],
   "source": [
    "%%timeit -r 1 -n 1\n",
    "U,S,Vt = np.linalg.svd(A,full_matrices = False)\n",
    "for i in range(100):\n",
    "    xr=Tikhonov_solveSVD(U,S,Vt,mu[i],Y2d)\n",
    "    norm_list[i]=norm(xr-X2d)  #list of norms from Tikhonov"
   ]
  },
  {
   "cell_type": "code",
   "execution_count": 301,
   "id": "dc89372d",
   "metadata": {},
   "outputs": [
    {
     "name": "stdout",
     "output_type": "stream",
     "text": [
      "43.3 s ± 0 ns per loop (mean ± std. dev. of 1 run, 1 loop each)\n"
     ]
    }
   ],
   "source": [
    "%%timeit -r 1 -n 1\n",
    "b=A.T@Y2d\n",
    "for i in range(10):\n",
    "    A_ls=A.T@A+mu_ls[i]*np.identity(n) #note: ls notation is for linalg.solve, not least squares.\n",
    "    \n",
    "    x=np.linalg.solve(A_ls,b)\n",
    "    x_ls[i]=norm(x-X2d)     #list of norms from linalg.solve"
   ]
  },
  {
   "cell_type": "code",
   "execution_count": 307,
   "id": "67719286",
   "metadata": {},
   "outputs": [
    {
     "data": {
      "image/png": "[encoded data removed]",
      "text/plain": [
       "<Figure size 720x360 with 1 Axes>"
      ]
     },
     "metadata": {
      "needs_background": "light"
     },
     "output_type": "display_data"
    }
   ],
   "source": [
    "\n",
    "plt.figure(figsize=(10,5))\n",
    "plt.plot(mu,norm_list,'.', label=\"Norms from SVD\")\n",
    "plt.plot(mu_ls,x_ls,'.', label=\"Norms from linalg solve\")\n",
    "plt.semilogx()\n",
    "plt.legend(loc=\"upper left\")\n",
    "plt.xlabel(\"$\\mu$\")\n",
    "plt.ylabel(\"$||x(\\mu)-x_{true}||$\")\n",
    "\n",
    "plt.show()"
   ]
  },
  {
   "cell_type": "markdown",
   "id": "0e1f7f01",
   "metadata": {},
   "source": [
    "2.\\\n",
    "d)\\\n",
    "We can clearly see by the computational time that the SVD solver we wrote i significantly faster than the np.linalg.solve(). The best reconstruction of $\\textbf{x}_{true}$ is for low values of $\\mu$. This is quite logical since we are working with a $\\textbf{y}$ directly costructed from $\\textbf{x}_{true}$."
   ]
  },
  {
   "cell_type": "markdown",
   "id": "2090ac6d",
   "metadata": {},
   "source": [
    "## Task 3\n",
    "a)\\\n",
    "We want to show that $B=I-WW^T$ is a projection matrix that is $B=B^2$. \n",
    "$$B^2=(I-WW^T)(I-WW^T)=I^2-2WW^T+WW^TWW^T$$\n",
    "Since $W$ is pairwise orthogonal we have that $W^TW=I$\n",
    "$$I^2-2WW^T+WW^TWW^T=I-2WW^T+WW^T=I-WW^T$$\n",
    "We now have shown that $B$ is a projection matrix. We can also show that $B$ only has two non negative eigenvalues and therefore is positive semi definite.\n",
    "$$B\\textbf{x}=\\lambda\\textbf{x}=B^2\\textbf{x}=\\lambda^2\\textbf{x}\\implies \\lambda^2=\\lambda$$\n",
    "The only solutions for $\\lambda$ is $\\lambda=0$ and $\\lambda=1\\implies B$ is positive semi definite."
   ]
  },
  {
   "cell_type": "markdown",
   "id": "22e1710b",
   "metadata": {},
   "source": [
    "b)\\\n",
    "(1)\\\n",
    "$$\\mathcal{L}(\\textbf{x},\\mathbf{\\lambda})=\\frac{1}{2}\\textbf{x}^TB\\textbf{x}+\\mathbf{\\lambda}^T(A\\textbf{x}-\\textbf{y})$$\n",
    "If we minimize this the same way as in task 2 by setting the gradient equal to zero we get as shown in assignment 2\n",
    "$$\\nabla_x\\mathcal{L}(\\textbf{x},\\mathbf{\\lambda})=\\frac{1}{2}(B+B^T)\\textbf{x}+A^T\\mathbf{\\lambda}=0$$\n",
    "$$\\nabla_{\\lambda}\\mathcal{L}(\\textbf{x},\\mathbf{\\lambda})=A\\textbf{x}-\\textbf{y}=0$$\n",
    "This will result in the linear system\n",
    "$$\\begin{bmatrix}\n",
    "\\frac{1}{2}(B+B^T) & A^T \\\\\n",
    "A & 0\n",
    "\\end{bmatrix}=\\begin{bmatrix} \\textbf{x} \\\\ \\mathbf{\\lambda} \\end{bmatrix}=\\begin{bmatrix} 0 \\\\ \\textbf{y} \\end{bmatrix}$$\n",
    "We have that \n",
    "$$B=\\begin{bmatrix}\n",
    "B_0 & 0 \\\\\n",
    "0 & B_1\n",
    "\\end{bmatrix}, A=\\begin{bmatrix} I & I \\end{bmatrix}$$\n",
    "Since $B$ is symmetric $\\frac{1}{2}(B+B^T)=B$\n",
    "$$\\implies\\begin{bmatrix} \\frac{1}{2}(B+B^T) & A^T \\\\A & 0\\end{bmatrix}=\\begin{bmatrix} B_0 & 0&I \\\\\n",
    "0 & B_1 & I\\\\\n",
    "I & I & 0\n",
    "\\end{bmatrix}=\\begin{bmatrix} I-W_0W_0^T & 0&I \\\\\n",
    "0 & I-W_1W_1^T & I\\\\\n",
    "I & I & 0 \\end{bmatrix}$$\n",
    "With $\\textbf{y}=\\textbf{u}+\\textbf{v}$ we get\n",
    "$$\\begin{bmatrix} I-W_0W_0^T & 0&I \\\\\n",
    "0 & I-W_1W_1^T & I\\\\\n",
    "I & I & 0 \\end{bmatrix}\\begin{bmatrix} \\textbf{u} \\\\ \\textbf{v} \\\\ \\mathbf{\\lambda} \\end{bmatrix}=\\begin{bmatrix} 0 \\\\ 0 \\\\ \\textbf{y} \\end{bmatrix}$$"
   ]
  },
  {
   "cell_type": "markdown",
   "id": "2f61f0ff",
   "metadata": {},
   "source": [
    "(2)\\\n",
    "We now want to eliminate $\\lambda$ such that we can solve for $\\textbf{u}$ and $\\textbf{v}$ with the set of basis vectors $W_0$ and $W_1$ and a given $\\textbf{y}$.\\\n",
    "From (1) we have the the set of linear equations\n",
    "$$(I-W_0W_0^T)\\textbf{u}+\\lambda I=0$$\n",
    "$$(I-W_1W_1^T)\\textbf{v}+\\lambda I=0$$\n",
    "$$\\implies (I-W_0W_0^T)\\textbf{u}+\\lambda I=(I-W_1W_1^T)\\textbf{v}+\\lambda I$$\n",
    "$$\\textbf{u}-(W_0W_0^T)\\textbf{u}=\\textbf{v}-(W_1W_1^T)\\textbf{v}$$\n",
    "Use that $\\textbf{v}=\\textbf{y}-\\textbf{u}$ and we get\n",
    "$$\\textbf{u}-(W_0W_0^T)\\textbf{u}=\\textbf{y}-\\textbf{u}-(W_1W_1^T)\\textbf{y}+(W_1W_1^T)\\textbf{u}$$\n",
    "\\\n",
    "Rearrange this and obtain\\\n",
    "$$(W_0W_0^T+W_1W_1^T-2I)\\textbf{u}=(W_1W_1^T-I)\\textbf{y}$$\n",
    "\\\n",
    "We now make a new linear sytem solvable without $\\lambda$\\\n",
    "$$\\begin{bmatrix} W_0W_0^T+W_1W_1^T-2I & 0 \\\\0 & I\\end{bmatrix}\\textbf{u}=\\begin{bmatrix} W_1W_1^T\\textbf{y}-\\textbf{y}\\\\ \\textbf{y}-\\textbf{v}\\end{bmatrix}$$\n",
    "\\\n",
    "Now we can easily implement a funcion that solves for $\\textbf{u}$ and $\\textbf{v}$ given the set of basis vectors $W_0$ and $W_1$ and the vector $\\textbf{y}$. We just need to solve the first linear equation for $\\textbf{u}$ and then subtract $\\textbf{u}$ from $\\textbf{y}$ to find $\\textbf{v}$."
   ]
  },
  {
   "cell_type": "code",
   "execution_count": 291,
   "id": "baeb8106",
   "metadata": {},
   "outputs": [],
   "source": [
    "#3b) (3)\n",
    "\n",
    "def uv_solver(y,W0,W1):\n",
    "    C=W0@W0.T+W1@W1.T-2*np.identity(len(W0@W0.T)) #making the LHS matrix\n",
    "    d=W1@W1.T@y-y                                #making RHS vector\n",
    "    u=np.linalg.solve(C,d)     #solving for u\n",
    "    v=y-u                      #solving for v\n",
    "    return u,v"
   ]
  },
  {
   "cell_type": "code",
   "execution_count": 292,
   "id": "f2e0dc31",
   "metadata": {},
   "outputs": [
    {
     "name": "stdout",
     "output_type": "stream",
     "text": [
      "(784, 100)\n"
     ]
    },
    {
     "data": {
      "image/png": "[encoded data removed]",
      "text/plain": [
       "<Figure size 1440x144 with 1 Axes>"
      ]
     },
     "metadata": {
      "needs_background": "light"
     },
     "output_type": "display_data"
    },
    {
     "data": {
      "image/png": "[encoded data removed]",
      "text/plain": [
       "<Figure size 1440x144 with 1 Axes>"
      ]
     },
     "metadata": {
      "needs_background": "light"
     },
     "output_type": "display_data"
    }
   ],
   "source": [
    "Mixes = np.load('Data/mixed.npy')\n",
    "print(Mixes.shape) # Should be (784,100)\n",
    "\n",
    "plt.imshow(Mixes[:,1].reshape((28,28)), cmap = 'gray')\n",
    "plt.axis('off') # Removes the x and y axis to plot only the image\n",
    "plt.show()\n",
    "\n",
    "plt.imshow(Mixes[:,32].reshape((28,28)), cmap = 'gray')\n",
    "plt.axis('off') # Removes the x and y axis to plot only the image\n",
    "plt.show()"
   ]
  },
  {
   "cell_type": "code",
   "execution_count": 293,
   "id": "f54dbcbd",
   "metadata": {},
   "outputs": [
    {
     "name": "stdout",
     "output_type": "stream",
     "text": [
      "(784, 16)\n",
      "(784, 16)\n"
     ]
    },
    {
     "data": {
      "image/png": "[encoded data removed]",
      "text/plain": [
       "<Figure size 1440x144 with 1 Axes>"
      ]
     },
     "metadata": {
      "needs_background": "light"
     },
     "output_type": "display_data"
    },
    {
     "data": {
      "image/png": "[encoded data removed]",
      "text/plain": [
       "<Figure size 1440x144 with 1 Axes>"
      ]
     },
     "metadata": {
      "needs_background": "light"
     },
     "output_type": "display_data"
    }
   ],
   "source": [
    "W0 = np.load('Data/W0.npy')  #basis for W0\n",
    "W1 = np.load('Data/W1.npy')  #basis for W1\n",
    "print(W0.shape) # Should be (784,16)\n",
    "print(W1.shape) # Should be (784,16)\n",
    "\n",
    "plt.imshow(W0[:,0].reshape((28,28)), cmap = 'gray')\n",
    "plt.axis('off')\n",
    "plt.show()\n",
    "\n",
    "W0TW0 = np.dot(W0.T, W0)\n",
    "plt.imshow(W0TW0)\n",
    "plt.show()"
   ]
  },
  {
   "cell_type": "code",
   "execution_count": 294,
   "id": "04b245a6",
   "metadata": {},
   "outputs": [
    {
     "data": {
      "image/png": "[encoded data removed]",
      "text/plain": [
       "<Figure size 1440x144 with 1 Axes>"
      ]
     },
     "metadata": {
      "needs_background": "light"
     },
     "output_type": "display_data"
    },
    {
     "data": {
      "image/png": "[encoded data removed]",
      "text/plain": [
       "<Figure size 1440x144 with 1 Axes>"
      ]
     },
     "metadata": {
      "needs_background": "light"
     },
     "output_type": "display_data"
    },
    {
     "data": {
      "image/png": "[encoded data removed]",
      "text/plain": [
       "<Figure size 1440x144 with 1 Axes>"
      ]
     },
     "metadata": {
      "needs_background": "light"
     },
     "output_type": "display_data"
    }
   ],
   "source": [
    "#3d) Testing the solver for some arbitrary vector y from the mixed set wrt the basises W0 and W1\n",
    "\n",
    "u,v=uv_solver(Mixes[:,1],W0,W1)\n",
    "plt.imshow(Mixes[:,1].reshape((28,28)), cmap = 'gray')\n",
    "plt.axis('off')\n",
    "plt.show()\n",
    "plt.imshow(v.reshape((28,28)), cmap = 'gray')\n",
    "plt.axis('off')\n",
    "plt.show()\n",
    "plt.imshow(u.reshape((28,28)), cmap = 'gray')\n",
    "plt.axis('off')\n",
    "plt.show()"
   ]
  },
  {
   "cell_type": "markdown",
   "id": "5c94f963",
   "metadata": {},
   "source": [
    "We can se from the images that we have managed to seperate the zero and one from the mixed image and that the reconstructions are easily recognizable in comparison to the basis. What we have essentially done is projecting the mixed vector $\\textbf{y}$ onto the basis $W$ where $\\textbf{u}$ and $\\textbf{v}$ is the projection onto the basis for the zero image ($W_0$) and one image ($W_1$) respectively.\\\n",
    "\\\n",
    "The advantage of this method is that we get the solution with the minimized norm with respect to the basis. A disadvantage of this could be if the solution isn't the solution with minimized norm. For example like it was in task 1 where the true solution was not the solution that minimized the norm.\\\n",
    "\\\n",
    "This method for single channel source separation works fairly well. One drawback by solving for one basis first and then subtracting from the single source to retrieve the other image is that this is not necessarely the best way. This is faster, but it could be more percise to find both images with respect to their own basis seperately.\\\n",
    "\\\n",
    "Throughout this project we have seen that for ill poste linear systems with infinitely many solutions it is not given that minimizing the norm is the best way of solving such systems. Although it seems to be a good approach if you know there exist a solution."
   ]
  }
 ],
 "metadata": {
  "kernelspec": {
   "display_name": "Python 3 (ipykernel)",
   "language": "python",
   "name": "python3"
  },
  "language_info": {
   "codemirror_mode": {
    "name": "ipython",
    "version": 3
   },
   "file_extension": ".py",
   "mimetype": "text/x-python",
   "name": "python",
   "nbconvert_exporter": "python",
   "pygments_lexer": "ipython3",
   "version": "3.9.12"
  }
 },
 "nbformat": 4,
 "nbformat_minor": 5
}
